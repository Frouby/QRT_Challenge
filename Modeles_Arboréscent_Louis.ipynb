{
 "cells": [
  {
   "cell_type": "markdown",
   "metadata": {},
   "source": [
    "# Used libraries"
   ]
  },
  {
   "cell_type": "code",
   "execution_count": 1,
   "metadata": {},
   "outputs": [],
   "source": [
    "import seaborn as sns\n",
    "import numpy as np\n",
    "import pandas as pd\n",
    "from sklearn.ensemble import RandomForestClassifier\n",
    "from sklearn.metrics import accuracy_score\n",
    "from sklearn.model_selection import KFold\n",
    "import matplotlib.pyplot as plt\n",
    "import statsmodels.api as sm\n",
    "import random\n",
    "from sklearn.preprocessing import StandardScaler\n",
    "from sklearn.model_selection import cross_val_score\n",
    "from sklearn.model_selection import StratifiedKFold\n",
    "from math import sqrt"
   ]
  },
  {
   "cell_type": "markdown",
   "metadata": {},
   "source": [
    "## Loading data\n",
    "\n",
    "The train and test inputs are composed of 46 features.\n",
    "\n",
    "The target of this challenge is `RET` and corresponds to the fact that the **return is in the top 50% of highest stock returns**.\n",
    "\n",
    "Since the median is very close to 0, this information should not change much with the idea to predict the sign of the return."
   ]
  },
  {
   "cell_type": "code",
   "execution_count": 2,
   "metadata": {},
   "outputs": [
    {
     "data": {
      "text/html": [
       "<div>\n",
       "<style scoped>\n",
       "    .dataframe tbody tr th:only-of-type {\n",
       "        vertical-align: middle;\n",
       "    }\n",
       "\n",
       "    .dataframe tbody tr th {\n",
       "        vertical-align: top;\n",
       "    }\n",
       "\n",
       "    .dataframe thead th {\n",
       "        text-align: right;\n",
       "    }\n",
       "</style>\n",
       "<table border=\"1\" class=\"dataframe\">\n",
       "  <thead>\n",
       "    <tr style=\"text-align: right;\">\n",
       "      <th></th>\n",
       "      <th>DATE</th>\n",
       "      <th>STOCK</th>\n",
       "      <th>INDUSTRY</th>\n",
       "      <th>INDUSTRY_GROUP</th>\n",
       "      <th>SECTOR</th>\n",
       "      <th>SUB_INDUSTRY</th>\n",
       "      <th>RET_1</th>\n",
       "      <th>VOLUME_1</th>\n",
       "      <th>RET_2</th>\n",
       "      <th>VOLUME_2</th>\n",
       "      <th>...</th>\n",
       "      <th>VOLUME_16</th>\n",
       "      <th>RET_17</th>\n",
       "      <th>VOLUME_17</th>\n",
       "      <th>RET_18</th>\n",
       "      <th>VOLUME_18</th>\n",
       "      <th>RET_19</th>\n",
       "      <th>VOLUME_19</th>\n",
       "      <th>RET_20</th>\n",
       "      <th>VOLUME_20</th>\n",
       "      <th>RET</th>\n",
       "    </tr>\n",
       "    <tr>\n",
       "      <th>ID</th>\n",
       "      <th></th>\n",
       "      <th></th>\n",
       "      <th></th>\n",
       "      <th></th>\n",
       "      <th></th>\n",
       "      <th></th>\n",
       "      <th></th>\n",
       "      <th></th>\n",
       "      <th></th>\n",
       "      <th></th>\n",
       "      <th></th>\n",
       "      <th></th>\n",
       "      <th></th>\n",
       "      <th></th>\n",
       "      <th></th>\n",
       "      <th></th>\n",
       "      <th></th>\n",
       "      <th></th>\n",
       "      <th></th>\n",
       "      <th></th>\n",
       "      <th></th>\n",
       "    </tr>\n",
       "  </thead>\n",
       "  <tbody>\n",
       "    <tr>\n",
       "      <th>0</th>\n",
       "      <td>0</td>\n",
       "      <td>2</td>\n",
       "      <td>18</td>\n",
       "      <td>5</td>\n",
       "      <td>3</td>\n",
       "      <td>44</td>\n",
       "      <td>-0.015748</td>\n",
       "      <td>0.147931</td>\n",
       "      <td>-0.015504</td>\n",
       "      <td>0.179183</td>\n",
       "      <td>...</td>\n",
       "      <td>0.630899</td>\n",
       "      <td>0.003254</td>\n",
       "      <td>-0.379412</td>\n",
       "      <td>0.008752</td>\n",
       "      <td>-0.110597</td>\n",
       "      <td>-0.012959</td>\n",
       "      <td>0.174521</td>\n",
       "      <td>-0.002155</td>\n",
       "      <td>-0.000937</td>\n",
       "      <td>True</td>\n",
       "    </tr>\n",
       "    <tr>\n",
       "      <th>1</th>\n",
       "      <td>0</td>\n",
       "      <td>3</td>\n",
       "      <td>43</td>\n",
       "      <td>15</td>\n",
       "      <td>6</td>\n",
       "      <td>104</td>\n",
       "      <td>0.003984</td>\n",
       "      <td>NaN</td>\n",
       "      <td>-0.090580</td>\n",
       "      <td>NaN</td>\n",
       "      <td>...</td>\n",
       "      <td>NaN</td>\n",
       "      <td>0.003774</td>\n",
       "      <td>NaN</td>\n",
       "      <td>-0.018518</td>\n",
       "      <td>NaN</td>\n",
       "      <td>-0.028777</td>\n",
       "      <td>NaN</td>\n",
       "      <td>-0.034722</td>\n",
       "      <td>NaN</td>\n",
       "      <td>True</td>\n",
       "    </tr>\n",
       "    <tr>\n",
       "      <th>2</th>\n",
       "      <td>0</td>\n",
       "      <td>4</td>\n",
       "      <td>57</td>\n",
       "      <td>20</td>\n",
       "      <td>8</td>\n",
       "      <td>142</td>\n",
       "      <td>0.000440</td>\n",
       "      <td>-0.096282</td>\n",
       "      <td>-0.058896</td>\n",
       "      <td>0.084771</td>\n",
       "      <td>...</td>\n",
       "      <td>-0.010336</td>\n",
       "      <td>-0.017612</td>\n",
       "      <td>-0.354333</td>\n",
       "      <td>-0.006562</td>\n",
       "      <td>-0.519391</td>\n",
       "      <td>-0.012101</td>\n",
       "      <td>-0.356157</td>\n",
       "      <td>-0.006867</td>\n",
       "      <td>-0.308868</td>\n",
       "      <td>False</td>\n",
       "    </tr>\n",
       "    <tr>\n",
       "      <th>3</th>\n",
       "      <td>0</td>\n",
       "      <td>8</td>\n",
       "      <td>1</td>\n",
       "      <td>1</td>\n",
       "      <td>1</td>\n",
       "      <td>2</td>\n",
       "      <td>0.031298</td>\n",
       "      <td>-0.429540</td>\n",
       "      <td>0.007756</td>\n",
       "      <td>-0.089919</td>\n",
       "      <td>...</td>\n",
       "      <td>0.012105</td>\n",
       "      <td>0.033824</td>\n",
       "      <td>-0.290178</td>\n",
       "      <td>-0.001468</td>\n",
       "      <td>-0.663834</td>\n",
       "      <td>-0.013520</td>\n",
       "      <td>-0.562126</td>\n",
       "      <td>-0.036745</td>\n",
       "      <td>-0.631458</td>\n",
       "      <td>False</td>\n",
       "    </tr>\n",
       "    <tr>\n",
       "      <th>4</th>\n",
       "      <td>0</td>\n",
       "      <td>14</td>\n",
       "      <td>36</td>\n",
       "      <td>12</td>\n",
       "      <td>5</td>\n",
       "      <td>92</td>\n",
       "      <td>0.027273</td>\n",
       "      <td>-0.847155</td>\n",
       "      <td>-0.039302</td>\n",
       "      <td>-0.943033</td>\n",
       "      <td>...</td>\n",
       "      <td>-0.277083</td>\n",
       "      <td>-0.012659</td>\n",
       "      <td>0.139086</td>\n",
       "      <td>0.004237</td>\n",
       "      <td>-0.017547</td>\n",
       "      <td>0.004256</td>\n",
       "      <td>0.579510</td>\n",
       "      <td>-0.040817</td>\n",
       "      <td>0.802806</td>\n",
       "      <td>False</td>\n",
       "    </tr>\n",
       "  </tbody>\n",
       "</table>\n",
       "<p>5 rows × 47 columns</p>\n",
       "</div>"
      ],
      "text/plain": [
       "    DATE  STOCK  INDUSTRY  INDUSTRY_GROUP  SECTOR  SUB_INDUSTRY     RET_1  \\\n",
       "ID                                                                          \n",
       "0      0      2        18               5       3            44 -0.015748   \n",
       "1      0      3        43              15       6           104  0.003984   \n",
       "2      0      4        57              20       8           142  0.000440   \n",
       "3      0      8         1               1       1             2  0.031298   \n",
       "4      0     14        36              12       5            92  0.027273   \n",
       "\n",
       "    VOLUME_1     RET_2  VOLUME_2  ...  VOLUME_16    RET_17  VOLUME_17  \\\n",
       "ID                                ...                                   \n",
       "0   0.147931 -0.015504  0.179183  ...   0.630899  0.003254  -0.379412   \n",
       "1        NaN -0.090580       NaN  ...        NaN  0.003774        NaN   \n",
       "2  -0.096282 -0.058896  0.084771  ...  -0.010336 -0.017612  -0.354333   \n",
       "3  -0.429540  0.007756 -0.089919  ...   0.012105  0.033824  -0.290178   \n",
       "4  -0.847155 -0.039302 -0.943033  ...  -0.277083 -0.012659   0.139086   \n",
       "\n",
       "      RET_18  VOLUME_18    RET_19  VOLUME_19    RET_20  VOLUME_20    RET  \n",
       "ID                                                                        \n",
       "0   0.008752  -0.110597 -0.012959   0.174521 -0.002155  -0.000937   True  \n",
       "1  -0.018518        NaN -0.028777        NaN -0.034722        NaN   True  \n",
       "2  -0.006562  -0.519391 -0.012101  -0.356157 -0.006867  -0.308868  False  \n",
       "3  -0.001468  -0.663834 -0.013520  -0.562126 -0.036745  -0.631458  False  \n",
       "4   0.004237  -0.017547  0.004256   0.579510 -0.040817   0.802806  False  \n",
       "\n",
       "[5 rows x 47 columns]"
      ]
     },
     "execution_count": 2,
     "metadata": {},
     "output_type": "execute_result"
    }
   ],
   "source": [
    "x_train = pd.read_csv('x_train.csv', index_col='ID')\n",
    "y_train = pd.read_csv('y_train.csv', index_col='ID')\n",
    "train = pd.concat([x_train, y_train], axis=1)\n",
    "test = pd.read_csv('x_test.csv', index_col='ID')\n",
    "train.head()"
   ]
  },
  {
   "cell_type": "code",
   "execution_count": 3,
   "metadata": {},
   "outputs": [],
   "source": [
    "ret=[f'RET_{k}' for k in range(20,0,-1)]\n",
    "vol=[f'VOLUME_{k}' for k in range(20,0,-1)]"
   ]
  },
  {
   "cell_type": "markdown",
   "metadata": {},
   "source": [
    "# Exploration des secteurs"
   ]
  },
  {
   "cell_type": "markdown",
   "metadata": {},
   "source": [
    "Nombre de points par secteur :"
   ]
  },
  {
   "cell_type": "code",
   "execution_count": 4,
   "metadata": {},
   "outputs": [
    {
     "name": "stdout",
     "output_type": "stream",
     "text": [
      "Nombre total d'actions : 5350\n",
      "Nombre total de sub-industries : 182\n",
      "Nombre total d'industries : 75\n",
      "Nombre total de groupes industriels : 27\n",
      "Nombre total de secteurs : 12\n",
      "182\n",
      "74\n",
      "26\n",
      "11\n"
     ]
    }
   ],
   "source": [
    "nb_sto = max(len(train.STOCK.unique()),len(test.STOCK.unique()))\n",
    "nb_sub_ind = max(len(train.SUB_INDUSTRY.unique()),len(test.SUB_INDUSTRY.unique()))\n",
    "nb_ind = max(len(train.INDUSTRY.unique()),len(test.INDUSTRY.unique()))\n",
    "nb_grp_ind = max(len(train.INDUSTRY_GROUP.unique()),len(test.INDUSTRY_GROUP.unique()))\n",
    "nb_sec = max(len(train.SECTOR.unique()),len(test.SECTOR.unique()))\n",
    "print(\"Nombre total d'actions :\", nb_sto)\n",
    "print(\"Nombre total de sub-industries :\", nb_sub_ind)\n",
    "print(\"Nombre total d'industries :\", nb_ind)\n",
    "print(\"Nombre total de groupes industriels :\", nb_grp_ind)\n",
    "print(\"Nombre total de secteurs :\", nb_sec)\n",
    "print(max(test.SUB_INDUSTRY.unique()))\n",
    "print(max(test.INDUSTRY.unique()))\n",
    "print(max(test.INDUSTRY_GROUP.unique()))\n",
    "print(max(test.SECTOR.unique()))\n"
   ]
  },
  {
   "cell_type": "code",
   "execution_count": 5,
   "metadata": {},
   "outputs": [
    {
     "data": {
      "text/plain": [
       "<matplotlib.axes._subplots.AxesSubplot at 0x7f449db6bdf0>"
      ]
     },
     "execution_count": 5,
     "metadata": {},
     "output_type": "execute_result"
    },
    {
     "data": {
      "image/png": "[encoded data removed]",
      "text/plain": [
       "<Figure size 432x288 with 1 Axes>"
      ]
     },
     "metadata": {
      "needs_background": "light"
     },
     "output_type": "display_data"
    }
   ],
   "source": [
    "x_train.SECTOR.hist(bins=nb_sec)\n",
    "test.SECTOR.hist(bins=nb_sec)"
   ]
  },
  {
   "cell_type": "code",
   "execution_count": 6,
   "metadata": {},
   "outputs": [
    {
     "data": {
      "text/plain": [
       "SECTOR\n",
       "0      6304\n",
       "1     21264\n",
       "2     18967\n",
       "3     55473\n",
       "4     63519\n",
       "5     17295\n",
       "6     55123\n",
       "7     87903\n",
       "8     70843\n",
       "9      5555\n",
       "10    13295\n",
       "11     3054\n",
       "Name: DATE, dtype: int64"
      ]
     },
     "execution_count": 6,
     "metadata": {},
     "output_type": "execute_result"
    }
   ],
   "source": [
    "train.groupby(by='SECTOR').count()['DATE']\n",
    "#test.groupby(by='STOCK').count()['DATE']"
   ]
  },
  {
   "cell_type": "markdown",
   "metadata": {},
   "source": [
    "# Cleaning : remplacement des NaN par les médianes par secteur"
   ]
  },
  {
   "cell_type": "markdown",
   "metadata": {},
   "source": [
    "Remplacement des Na : "
   ]
  },
  {
   "cell_type": "code",
   "execution_count": 7,
   "metadata": {},
   "outputs": [],
   "source": [
    "train_cl = train.copy()\n",
    "test_cl = test.copy()\n",
    "for indu in range(nb_ind):\n",
    "    for ret_t,vol_t in zip(ret,vol):\n",
    "        med_ret_train = train[ret_t][train['INDUSTRY_GROUP']==indu].median()\n",
    "        med_vol_train = train[vol_t][train['INDUSTRY_GROUP']==indu].median()\n",
    "        med_ret_test = train[ret_t][train['INDUSTRY_GROUP']==indu].median()\n",
    "        med_vol_test = train[vol_t][train['INDUSTRY_GROUP']==indu].median()\n",
    "        \n",
    "        train_cl[ret_t] = train_cl[ret_t].fillna(med_ret_train)\n",
    "        train_cl[vol_t] = train_cl[vol_t].fillna(med_vol_train)\n",
    "        test_cl[ret_t] = test_cl[ret_t].fillna(med_ret_test)\n",
    "        test_cl[vol_t] = test_cl[vol_t].fillna(med_vol_test)"
   ]
  },
  {
   "cell_type": "markdown",
   "metadata": {},
   "source": [
    "Suppression Outliers"
   ]
  },
  {
   "cell_type": "code",
   "execution_count": 8,
   "metadata": {},
   "outputs": [],
   "source": [
    "seuil_ret = 1000;\n",
    "seuil_vol = 1000;\n",
    "train_cl  = train_cl [np.all([train_cl[col]<seuil_ret for col in ret],axis=0)]\n",
    "train_cl  = train_cl [np.all([train_cl[col]<seuil_vol for col in vol],axis=0)]\n"
   ]
  },
  {
   "cell_type": "code",
   "execution_count": 9,
   "metadata": {},
   "outputs": [
    {
     "data": {
      "text/plain": [
       "<matplotlib.axes._subplots.AxesSubplot at 0x7f449d2bbac0>"
      ]
     },
     "execution_count": 9,
     "metadata": {},
     "output_type": "execute_result"
    },
    {
     "data": {
      "image/png": "[encoded data removed]",
      "text/plain": [
       "<Figure size 432x288 with 1 Axes>"
      ]
     },
     "metadata": {
      "needs_background": "light"
     },
     "output_type": "display_data"
    }
   ],
   "source": [
    "train_cl[vol].boxplot()"
   ]
  },
  {
   "cell_type": "markdown",
   "metadata": {},
   "source": [
    "# Scaling"
   ]
  },
  {
   "cell_type": "code",
   "execution_count": 10,
   "metadata": {},
   "outputs": [],
   "source": [
    "scaler = StandardScaler()"
   ]
  },
  {
   "cell_type": "code",
   "execution_count": 11,
   "metadata": {},
   "outputs": [
    {
     "data": {
      "text/html": [
       "<div>\n",
       "<style scoped>\n",
       "    .dataframe tbody tr th:only-of-type {\n",
       "        vertical-align: middle;\n",
       "    }\n",
       "\n",
       "    .dataframe tbody tr th {\n",
       "        vertical-align: top;\n",
       "    }\n",
       "\n",
       "    .dataframe thead th {\n",
       "        text-align: right;\n",
       "    }\n",
       "</style>\n",
       "<table border=\"1\" class=\"dataframe\">\n",
       "  <thead>\n",
       "    <tr style=\"text-align: right;\">\n",
       "      <th></th>\n",
       "      <th>DATE</th>\n",
       "      <th>STOCK</th>\n",
       "      <th>INDUSTRY</th>\n",
       "      <th>INDUSTRY_GROUP</th>\n",
       "      <th>SECTOR</th>\n",
       "      <th>SUB_INDUSTRY</th>\n",
       "      <th>RET_1</th>\n",
       "      <th>VOLUME_1</th>\n",
       "      <th>RET_2</th>\n",
       "      <th>VOLUME_2</th>\n",
       "      <th>...</th>\n",
       "      <th>VOLUME_16</th>\n",
       "      <th>RET_17</th>\n",
       "      <th>VOLUME_17</th>\n",
       "      <th>RET_18</th>\n",
       "      <th>VOLUME_18</th>\n",
       "      <th>RET_19</th>\n",
       "      <th>VOLUME_19</th>\n",
       "      <th>RET_20</th>\n",
       "      <th>VOLUME_20</th>\n",
       "      <th>RET</th>\n",
       "    </tr>\n",
       "    <tr>\n",
       "      <th>ID</th>\n",
       "      <th></th>\n",
       "      <th></th>\n",
       "      <th></th>\n",
       "      <th></th>\n",
       "      <th></th>\n",
       "      <th></th>\n",
       "      <th></th>\n",
       "      <th></th>\n",
       "      <th></th>\n",
       "      <th></th>\n",
       "      <th></th>\n",
       "      <th></th>\n",
       "      <th></th>\n",
       "      <th></th>\n",
       "      <th></th>\n",
       "      <th></th>\n",
       "      <th></th>\n",
       "      <th></th>\n",
       "      <th></th>\n",
       "      <th></th>\n",
       "      <th></th>\n",
       "    </tr>\n",
       "  </thead>\n",
       "  <tbody>\n",
       "    <tr>\n",
       "      <th>0</th>\n",
       "      <td>0</td>\n",
       "      <td>2</td>\n",
       "      <td>18</td>\n",
       "      <td>5</td>\n",
       "      <td>3</td>\n",
       "      <td>44</td>\n",
       "      <td>-0.548988</td>\n",
       "      <td>0.124742</td>\n",
       "      <td>-0.533127</td>\n",
       "      <td>0.118379</td>\n",
       "      <td>...</td>\n",
       "      <td>0.369547</td>\n",
       "      <td>0.051338</td>\n",
       "      <td>-0.135215</td>\n",
       "      <td>0.244455</td>\n",
       "      <td>0.000154</td>\n",
       "      <td>-0.398164</td>\n",
       "      <td>0.138929</td>\n",
       "      <td>-0.064257</td>\n",
       "      <td>0.044562</td>\n",
       "      <td>True</td>\n",
       "    </tr>\n",
       "    <tr>\n",
       "      <th>1</th>\n",
       "      <td>0</td>\n",
       "      <td>3</td>\n",
       "      <td>43</td>\n",
       "      <td>15</td>\n",
       "      <td>6</td>\n",
       "      <td>104</td>\n",
       "      <td>0.083747</td>\n",
       "      <td>-0.085220</td>\n",
       "      <td>-2.963083</td>\n",
       "      <td>-0.069945</td>\n",
       "      <td>...</td>\n",
       "      <td>-0.087656</td>\n",
       "      <td>0.067731</td>\n",
       "      <td>-0.089013</td>\n",
       "      <td>-0.628630</td>\n",
       "      <td>-0.081377</td>\n",
       "      <td>-0.916075</td>\n",
       "      <td>-0.084071</td>\n",
       "      <td>-1.047147</td>\n",
       "      <td>-0.073966</td>\n",
       "      <td>True</td>\n",
       "    </tr>\n",
       "    <tr>\n",
       "      <th>2</th>\n",
       "      <td>0</td>\n",
       "      <td>4</td>\n",
       "      <td>57</td>\n",
       "      <td>20</td>\n",
       "      <td>8</td>\n",
       "      <td>142</td>\n",
       "      <td>-0.029884</td>\n",
       "      <td>0.005254</td>\n",
       "      <td>-1.937573</td>\n",
       "      <td>0.079344</td>\n",
       "      <td>...</td>\n",
       "      <td>0.049557</td>\n",
       "      <td>-0.606661</td>\n",
       "      <td>-0.122245</td>\n",
       "      <td>-0.245830</td>\n",
       "      <td>-0.183962</td>\n",
       "      <td>-0.370059</td>\n",
       "      <td>-0.120713</td>\n",
       "      <td>-0.206443</td>\n",
       "      <td>-0.078988</td>\n",
       "      <td>False</td>\n",
       "    </tr>\n",
       "    <tr>\n",
       "      <th>3</th>\n",
       "      <td>0</td>\n",
       "      <td>8</td>\n",
       "      <td>1</td>\n",
       "      <td>1</td>\n",
       "      <td>1</td>\n",
       "      <td>2</td>\n",
       "      <td>0.959606</td>\n",
       "      <td>-0.157803</td>\n",
       "      <td>0.219699</td>\n",
       "      <td>0.007117</td>\n",
       "      <td>...</td>\n",
       "      <td>0.060756</td>\n",
       "      <td>1.015335</td>\n",
       "      <td>-0.089066</td>\n",
       "      <td>-0.082767</td>\n",
       "      <td>-0.249017</td>\n",
       "      <td>-0.416536</td>\n",
       "      <td>-0.221487</td>\n",
       "      <td>-1.108184</td>\n",
       "      <td>-0.208420</td>\n",
       "      <td>False</td>\n",
       "    </tr>\n",
       "    <tr>\n",
       "      <th>4</th>\n",
       "      <td>0</td>\n",
       "      <td>14</td>\n",
       "      <td>36</td>\n",
       "      <td>12</td>\n",
       "      <td>5</td>\n",
       "      <td>92</td>\n",
       "      <td>0.830524</td>\n",
       "      <td>-0.362132</td>\n",
       "      <td>-1.303373</td>\n",
       "      <td>-0.345607</td>\n",
       "      <td>...</td>\n",
       "      <td>-0.083555</td>\n",
       "      <td>-0.450443</td>\n",
       "      <td>0.132933</td>\n",
       "      <td>0.099901</td>\n",
       "      <td>0.042062</td>\n",
       "      <td>0.165459</td>\n",
       "      <td>0.337076</td>\n",
       "      <td>-1.231085</td>\n",
       "      <td>0.367046</td>\n",
       "      <td>False</td>\n",
       "    </tr>\n",
       "  </tbody>\n",
       "</table>\n",
       "<p>5 rows × 47 columns</p>\n",
       "</div>"
      ],
      "text/plain": [
       "    DATE  STOCK  INDUSTRY  INDUSTRY_GROUP  SECTOR  SUB_INDUSTRY     RET_1  \\\n",
       "ID                                                                          \n",
       "0      0      2        18               5       3            44 -0.548988   \n",
       "1      0      3        43              15       6           104  0.083747   \n",
       "2      0      4        57              20       8           142 -0.029884   \n",
       "3      0      8         1               1       1             2  0.959606   \n",
       "4      0     14        36              12       5            92  0.830524   \n",
       "\n",
       "    VOLUME_1     RET_2  VOLUME_2  ...  VOLUME_16    RET_17  VOLUME_17  \\\n",
       "ID                                ...                                   \n",
       "0   0.124742 -0.533127  0.118379  ...   0.369547  0.051338  -0.135215   \n",
       "1  -0.085220 -2.963083 -0.069945  ...  -0.087656  0.067731  -0.089013   \n",
       "2   0.005254 -1.937573  0.079344  ...   0.049557 -0.606661  -0.122245   \n",
       "3  -0.157803  0.219699  0.007117  ...   0.060756  1.015335  -0.089066   \n",
       "4  -0.362132 -1.303373 -0.345607  ...  -0.083555 -0.450443   0.132933   \n",
       "\n",
       "      RET_18  VOLUME_18    RET_19  VOLUME_19    RET_20  VOLUME_20    RET  \n",
       "ID                                                                        \n",
       "0   0.244455   0.000154 -0.398164   0.138929 -0.064257   0.044562   True  \n",
       "1  -0.628630  -0.081377 -0.916075  -0.084071 -1.047147  -0.073966   True  \n",
       "2  -0.245830  -0.183962 -0.370059  -0.120713 -0.206443  -0.078988  False  \n",
       "3  -0.082767  -0.249017 -0.416536  -0.221487 -1.108184  -0.208420  False  \n",
       "4   0.099901   0.042062  0.165459   0.337076 -1.231085   0.367046  False  \n",
       "\n",
       "[5 rows x 47 columns]"
      ]
     },
     "execution_count": 11,
     "metadata": {},
     "output_type": "execute_result"
    }
   ],
   "source": [
    "train_cl[ret+vol] = scaler.fit_transform(train_cl[ret+vol])\n",
    "test_cl[ret+vol] = scaler.fit_transform(test_cl[ret+vol])\n",
    "train_cl.head()"
   ]
  },
  {
   "cell_type": "code",
   "execution_count": 12,
   "metadata": {},
   "outputs": [
    {
     "data": {
      "text/html": [
       "<div>\n",
       "<style scoped>\n",
       "    .dataframe tbody tr th:only-of-type {\n",
       "        vertical-align: middle;\n",
       "    }\n",
       "\n",
       "    .dataframe tbody tr th {\n",
       "        vertical-align: top;\n",
       "    }\n",
       "\n",
       "    .dataframe thead th {\n",
       "        text-align: right;\n",
       "    }\n",
       "</style>\n",
       "<table border=\"1\" class=\"dataframe\">\n",
       "  <thead>\n",
       "    <tr style=\"text-align: right;\">\n",
       "      <th></th>\n",
       "      <th>DATE</th>\n",
       "      <th>STOCK</th>\n",
       "      <th>INDUSTRY</th>\n",
       "      <th>INDUSTRY_GROUP</th>\n",
       "      <th>SECTOR</th>\n",
       "      <th>SUB_INDUSTRY</th>\n",
       "      <th>RET_1</th>\n",
       "      <th>VOLUME_1</th>\n",
       "      <th>RET_2</th>\n",
       "      <th>VOLUME_2</th>\n",
       "      <th>...</th>\n",
       "      <th>RET_16</th>\n",
       "      <th>VOLUME_16</th>\n",
       "      <th>RET_17</th>\n",
       "      <th>VOLUME_17</th>\n",
       "      <th>RET_18</th>\n",
       "      <th>VOLUME_18</th>\n",
       "      <th>RET_19</th>\n",
       "      <th>VOLUME_19</th>\n",
       "      <th>RET_20</th>\n",
       "      <th>VOLUME_20</th>\n",
       "    </tr>\n",
       "    <tr>\n",
       "      <th>ID</th>\n",
       "      <th></th>\n",
       "      <th></th>\n",
       "      <th></th>\n",
       "      <th></th>\n",
       "      <th></th>\n",
       "      <th></th>\n",
       "      <th></th>\n",
       "      <th></th>\n",
       "      <th></th>\n",
       "      <th></th>\n",
       "      <th></th>\n",
       "      <th></th>\n",
       "      <th></th>\n",
       "      <th></th>\n",
       "      <th></th>\n",
       "      <th></th>\n",
       "      <th></th>\n",
       "      <th></th>\n",
       "      <th></th>\n",
       "      <th></th>\n",
       "      <th></th>\n",
       "    </tr>\n",
       "  </thead>\n",
       "  <tbody>\n",
       "    <tr>\n",
       "      <th>418595</th>\n",
       "      <td>2</td>\n",
       "      <td>0</td>\n",
       "      <td>37</td>\n",
       "      <td>12</td>\n",
       "      <td>5</td>\n",
       "      <td>94</td>\n",
       "      <td>0.659985</td>\n",
       "      <td>0.055211</td>\n",
       "      <td>0.275432</td>\n",
       "      <td>0.054565</td>\n",
       "      <td>...</td>\n",
       "      <td>0.663303</td>\n",
       "      <td>-0.031916</td>\n",
       "      <td>-0.077006</td>\n",
       "      <td>-0.079964</td>\n",
       "      <td>0.023467</td>\n",
       "      <td>0.050283</td>\n",
       "      <td>0.008503</td>\n",
       "      <td>-0.006802</td>\n",
       "      <td>0.644021</td>\n",
       "      <td>0.027280</td>\n",
       "    </tr>\n",
       "    <tr>\n",
       "      <th>418596</th>\n",
       "      <td>2</td>\n",
       "      <td>1</td>\n",
       "      <td>15</td>\n",
       "      <td>4</td>\n",
       "      <td>3</td>\n",
       "      <td>37</td>\n",
       "      <td>0.290723</td>\n",
       "      <td>-0.028828</td>\n",
       "      <td>0.664285</td>\n",
       "      <td>-0.097103</td>\n",
       "      <td>...</td>\n",
       "      <td>-0.154947</td>\n",
       "      <td>-0.149778</td>\n",
       "      <td>-0.093803</td>\n",
       "      <td>-0.077944</td>\n",
       "      <td>0.080711</td>\n",
       "      <td>0.194547</td>\n",
       "      <td>-0.236004</td>\n",
       "      <td>-0.080440</td>\n",
       "      <td>0.159131</td>\n",
       "      <td>-0.095930</td>\n",
       "    </tr>\n",
       "    <tr>\n",
       "      <th>418597</th>\n",
       "      <td>2</td>\n",
       "      <td>4</td>\n",
       "      <td>57</td>\n",
       "      <td>20</td>\n",
       "      <td>8</td>\n",
       "      <td>142</td>\n",
       "      <td>0.153153</td>\n",
       "      <td>-0.000143</td>\n",
       "      <td>0.139440</td>\n",
       "      <td>0.000810</td>\n",
       "      <td>...</td>\n",
       "      <td>0.063471</td>\n",
       "      <td>-0.078750</td>\n",
       "      <td>0.336667</td>\n",
       "      <td>-0.112172</td>\n",
       "      <td>0.350132</td>\n",
       "      <td>-0.080709</td>\n",
       "      <td>0.013170</td>\n",
       "      <td>0.043524</td>\n",
       "      <td>0.038106</td>\n",
       "      <td>-0.016210</td>\n",
       "    </tr>\n",
       "    <tr>\n",
       "      <th>418598</th>\n",
       "      <td>2</td>\n",
       "      <td>5</td>\n",
       "      <td>35</td>\n",
       "      <td>12</td>\n",
       "      <td>5</td>\n",
       "      <td>91</td>\n",
       "      <td>0.498682</td>\n",
       "      <td>0.005255</td>\n",
       "      <td>-0.505231</td>\n",
       "      <td>0.026038</td>\n",
       "      <td>...</td>\n",
       "      <td>-0.453828</td>\n",
       "      <td>0.049484</td>\n",
       "      <td>1.180694</td>\n",
       "      <td>0.209310</td>\n",
       "      <td>-0.076162</td>\n",
       "      <td>0.103012</td>\n",
       "      <td>-0.245979</td>\n",
       "      <td>-0.009691</td>\n",
       "      <td>0.267310</td>\n",
       "      <td>-0.047895</td>\n",
       "    </tr>\n",
       "    <tr>\n",
       "      <th>418599</th>\n",
       "      <td>2</td>\n",
       "      <td>6</td>\n",
       "      <td>57</td>\n",
       "      <td>20</td>\n",
       "      <td>8</td>\n",
       "      <td>142</td>\n",
       "      <td>0.366914</td>\n",
       "      <td>-0.036729</td>\n",
       "      <td>0.693621</td>\n",
       "      <td>-0.024313</td>\n",
       "      <td>...</td>\n",
       "      <td>-0.050853</td>\n",
       "      <td>-0.114292</td>\n",
       "      <td>0.099463</td>\n",
       "      <td>-0.103968</td>\n",
       "      <td>-0.865823</td>\n",
       "      <td>-0.049073</td>\n",
       "      <td>0.353061</td>\n",
       "      <td>0.137099</td>\n",
       "      <td>-0.250134</td>\n",
       "      <td>0.231649</td>\n",
       "    </tr>\n",
       "  </tbody>\n",
       "</table>\n",
       "<p>5 rows × 46 columns</p>\n",
       "</div>"
      ],
      "text/plain": [
       "        DATE  STOCK  INDUSTRY  INDUSTRY_GROUP  SECTOR  SUB_INDUSTRY     RET_1  \\\n",
       "ID                                                                              \n",
       "418595     2      0        37              12       5            94  0.659985   \n",
       "418596     2      1        15               4       3            37  0.290723   \n",
       "418597     2      4        57              20       8           142  0.153153   \n",
       "418598     2      5        35              12       5            91  0.498682   \n",
       "418599     2      6        57              20       8           142  0.366914   \n",
       "\n",
       "        VOLUME_1     RET_2  VOLUME_2  ...    RET_16  VOLUME_16    RET_17  \\\n",
       "ID                                    ...                                  \n",
       "418595  0.055211  0.275432  0.054565  ...  0.663303  -0.031916 -0.077006   \n",
       "418596 -0.028828  0.664285 -0.097103  ... -0.154947  -0.149778 -0.093803   \n",
       "418597 -0.000143  0.139440  0.000810  ...  0.063471  -0.078750  0.336667   \n",
       "418598  0.005255 -0.505231  0.026038  ... -0.453828   0.049484  1.180694   \n",
       "418599 -0.036729  0.693621 -0.024313  ... -0.050853  -0.114292  0.099463   \n",
       "\n",
       "        VOLUME_17    RET_18  VOLUME_18    RET_19  VOLUME_19    RET_20  \\\n",
       "ID                                                                      \n",
       "418595  -0.079964  0.023467   0.050283  0.008503  -0.006802  0.644021   \n",
       "418596  -0.077944  0.080711   0.194547 -0.236004  -0.080440  0.159131   \n",
       "418597  -0.112172  0.350132  -0.080709  0.013170   0.043524  0.038106   \n",
       "418598   0.209310 -0.076162   0.103012 -0.245979  -0.009691  0.267310   \n",
       "418599  -0.103968 -0.865823  -0.049073  0.353061   0.137099 -0.250134   \n",
       "\n",
       "        VOLUME_20  \n",
       "ID                 \n",
       "418595   0.027280  \n",
       "418596  -0.095930  \n",
       "418597  -0.016210  \n",
       "418598  -0.047895  \n",
       "418599   0.231649  \n",
       "\n",
       "[5 rows x 46 columns]"
      ]
     },
     "execution_count": 12,
     "metadata": {},
     "output_type": "execute_result"
    }
   ],
   "source": [
    "test_cl.head()"
   ]
  },
  {
   "cell_type": "markdown",
   "metadata": {},
   "source": [
    "<h1>Sélection des features</h1>"
   ]
  },
  {
   "cell_type": "markdown",
   "metadata": {},
   "source": [
    "## Sélection du niveau d'arboréscence pour chaque modèle"
   ]
  },
  {
   "cell_type": "code",
   "execution_count": 13,
   "metadata": {},
   "outputs": [
    {
     "name": "stdout",
     "output_type": "stream",
     "text": [
      "Nous allons creer 21 modèles afin de couvrir les 436 groupes de données détectés.\n"
     ]
    }
   ],
   "source": [
    "arbre = ['SECTOR','INDUSTRY_GROUP','INDUSTRY','SUB_INDUSTRY','STOCK'];\n",
    "\n",
    "def niv_arbre(df, lvl_arb, chemin, nb_min_per_mod):\n",
    "    \n",
    "    if (lvl_arb == 4 and df.shape[0]>nb_min_per_mod):\n",
    "            return([[4,df.shape[0],chemin,chemin]])\n",
    "    \n",
    "    elif (df.shape[0]<nb_min_per_mod):\n",
    "        \n",
    "        if (lvl_arb == 0):\n",
    "            return([lvl_arb, df.shape[0], chemin, chemin])\n",
    "        \n",
    "        return([lvl_arb, df.shape[0], chemin, chemin[0:len(chemin)-1]])\n",
    "   \n",
    "    else :\n",
    "        res = []\n",
    "   \n",
    "        for sub_step in (df[arbre[lvl_arb+1]].unique()):\n",
    "            sub_df = df[df[arbre[lvl_arb+1]]==sub_step]\n",
    "            \n",
    "            if sub_df.shape[0]>nb_min_per_mod:\n",
    "                res = res + niv_arbre(sub_df,lvl_arb+1, chemin+[sub_step],nb_min_per_mod)\n",
    "                \n",
    "            elif (lvl_arb == -1):\n",
    "                res = res + [[0,sub_df.shape[0],chemin+[sub_step],chemin+[sub_step]]]\n",
    "                \n",
    "            else : \n",
    "                res = res + [[lvl_arb,sub_df.shape[0],chemin+[sub_step],chemin]]\n",
    "       \n",
    "        return(res)\n",
    "\n",
    "def creer_niv_arbre(df, nb_min_per_mod):\n",
    "    \n",
    "    grp_data = niv_arbre(df, -1, [], nb_min_per_mod) \n",
    "    \n",
    "    for i in range(12):\n",
    "        grp_data.append([0,0,0,[i]])\n",
    "        \n",
    "    models = np.unique(np.asarray(grp_data)[:,3])\n",
    "    \n",
    "    new_model = []\n",
    "    for i in range(5,-1,-1):  \n",
    "        for model in models:\n",
    "            div = len(model)-1\n",
    "            if i == div:\n",
    "                new_model.append([div,model[div]])\n",
    "    models = new_model\n",
    "    \n",
    "    \n",
    "    return(grp_data,models)\n",
    "\n",
    "grp_data, loc_mods = creer_niv_arbre(train,20000)\n",
    "\n",
    "print('Nous allons creer', len(loc_mods), 'modèles afin de couvrir les', len(grp_data), 'groupes de données détectés.')\n",
    "\n",
    "\n",
    "#Vérifiction : \n",
    "\n",
    "#count = 0\n",
    "#for i in arbre:\n",
    "#    count += i[1]\n",
    "#print(count,train.shape[0])"
   ]
  },
  {
   "cell_type": "code",
   "execution_count": 14,
   "metadata": {},
   "outputs": [],
   "source": [
    "#def niv_arbre(df,nb_min_per_mod):\n",
    " #   models = []\n",
    "  #  \n",
    "   # for niv in range(4,-1,-1):\n",
    "    #    for sub_div in df[arbre[niv]].unique():\n",
    "     #       if sub_div.shape[0]>\n",
    "        "
   ]
  },
  {
   "cell_type": "markdown",
   "metadata": {},
   "source": [
    "## Features de base"
   ]
  },
  {
   "cell_type": "code",
   "execution_count": 15,
   "metadata": {},
   "outputs": [],
   "source": [
    "nb_feat = 20 #nb de jours pris en compte\n",
    "features_base = ret[-nb_feat:]+vol[-nb_feat:]\n",
    "target = 'RET'"
   ]
  },
  {
   "cell_type": "code",
   "execution_count": 16,
   "metadata": {},
   "outputs": [
    {
     "name": "stdout",
     "output_type": "stream",
     "text": [
      "436 21\n",
      "[[3, 108], [2, 46], [1, 1], [1, 3], [1, 14], [1, 15], [1, 16], [1, 20], [1, 21], [0, 0], [0, 1], [0, 2], [0, 3], [0, 4], [0, 5], [0, 6], [0, 7], [0, 8], [0, 9], [0, 10], [0, 11]]\n"
     ]
    },
    {
     "data": {
      "text/plain": [
       "[3, 108]"
      ]
     },
     "execution_count": 16,
     "metadata": {},
     "output_type": "execute_result"
    }
   ],
   "source": [
    "print(len(grp_data),len(loc_mods))\n",
    "print(loc_mods)\n",
    "#print(grp_data)\n",
    "loc_mods[0]"
   ]
  },
  {
   "cell_type": "markdown",
   "metadata": {},
   "source": [
    "## New features"
   ]
  },
  {
   "cell_type": "code",
   "execution_count": 17,
   "metadata": {},
   "outputs": [
    {
     "name": "stdout",
     "output_type": "stream",
     "text": [
      "1\n"
     ]
    },
    {
     "name": "stderr",
     "output_type": "stream",
     "text": [
      "<ipython-input-17-c862bac52098>:17: DeprecationWarning: The default dtype for empty Series will be 'object' instead of 'float64' in a future version. Specify a dtype explicitly to silence this warning.\n",
      "  train_new = pd.Series()\n",
      "<ipython-input-17-c862bac52098>:18: DeprecationWarning: The default dtype for empty Series will be 'object' instead of 'float64' in a future version. Specify a dtype explicitly to silence this warning.\n",
      "  test_new = pd.Series()\n",
      "<ipython-input-17-c862bac52098>:20: DeprecationWarning: The default dtype for empty Series will be 'object' instead of 'float64' in a future version. Specify a dtype explicitly to silence this warning.\n",
      "  grille_train = pd.Series(index=range(0,418596))\n",
      "<ipython-input-17-c862bac52098>:21: DeprecationWarning: The default dtype for empty Series will be 'object' instead of 'float64' in a future version. Specify a dtype explicitly to silence this warning.\n",
      "  grille_test = pd.Series(index=range(418595,617024))\n",
      "<ipython-input-17-c862bac52098>:41: UserWarning: Boolean Series key will be reindexed to match DataFrame index.\n",
      "  train_set_sub = train_set_sub[grille_train.isna()]\n",
      "<ipython-input-17-c862bac52098>:42: UserWarning: Boolean Series key will be reindexed to match DataFrame index.\n",
      "  test_set_sub = test_set_sub[grille_test.isna()]\n"
     ]
    },
    {
     "name": "stdout",
     "output_type": "stream",
     "text": [
      "2\n",
      "3\n",
      "4\n",
      "5\n"
     ]
    }
   ],
   "source": [
    "nb_shifts = 5 #nombre de features supplémentaires\n",
    "shifts = range(1,nb_shifts+1)\n",
    "\n",
    "new_features = []\n",
    "\n",
    "statistics = ['median']\n",
    "target_feature = 'RET'\n",
    "\n",
    "for shift in range(1,nb_shifts+1):\n",
    "    print(shift)\n",
    "    for stat in statistics:\n",
    "            \n",
    "        feat = f'{target_feature}_{shift}'\n",
    "        name = f'{target_feature}_{shift}_SUBDIVISION_{stat}'\n",
    "        new_features.append(name)\n",
    "        \n",
    "        train_new = pd.Series()\n",
    "        test_new = pd.Series()\n",
    "        \n",
    "        grille_train = pd.Series(index=range(0,418596))\n",
    "        grille_test = pd.Series(index=range(418595,617024))\n",
    "       \n",
    "\n",
    "        for n in range(len(loc_mods)):    \n",
    "            \n",
    "            grp = loc_mods[n]\n",
    "            niv = grp[0]\n",
    "           \n",
    "            if niv == 5:\n",
    "                gb_features = ['STOCK', 'DATE']\n",
    "            else:\n",
    "                gb_features = [arbre[niv], 'DATE']\n",
    "             \n",
    "            \n",
    "            #print(data[data[arbre[niv]]==grp[1]].shape[0])\n",
    "            #print(data[data[arbre[niv]]==grp[1]].groupby(gb_features)[feat].transform(stat).shape[0])\n",
    "                \n",
    "            train_set_sub = train_cl[train_cl[arbre[niv]]==grp[1]]\n",
    "            test_set_sub = test_cl[test_cl[arbre[niv]]==grp[1]]\n",
    "            \n",
    "            train_set_sub = train_set_sub[grille_train.isna()]\n",
    "            test_set_sub = test_set_sub[grille_test.isna()]\n",
    "            \n",
    "            train_index = train_set_sub.index\n",
    "            test_index = test_set_sub.index\n",
    "            \n",
    "            grille_train[train_index] = 1\n",
    "            grille_test[test_index] = 1\n",
    "                \n",
    "            train_new_sub = pd.Series(train_set_sub.groupby(gb_features)[feat].transform(stat),index=train_index)\n",
    "            test_new_sub = pd.Series(test_set_sub.groupby(gb_features)[feat].transform(stat),index=test_index)\n",
    "                \n",
    "            train_new = pd.concat([train_new,train_new_sub])\n",
    "            test_new = pd.concat([test_new,test_new_sub])\n",
    "            \n",
    "            #print(grp)\n",
    "            #print(train_cl[train_cl['INDUSTRY']==12].RET_1_SUBDIVISION_median.head(1))\n",
    "            \n",
    "        train_cl[name] = train_new\n",
    "        test_cl[name] = test_new"
   ]
  },
  {
   "cell_type": "code",
   "execution_count": 18,
   "metadata": {},
   "outputs": [
    {
     "data": {
      "text/html": [
       "<div>\n",
       "<style scoped>\n",
       "    .dataframe tbody tr th:only-of-type {\n",
       "        vertical-align: middle;\n",
       "    }\n",
       "\n",
       "    .dataframe tbody tr th {\n",
       "        vertical-align: top;\n",
       "    }\n",
       "\n",
       "    .dataframe thead th {\n",
       "        text-align: right;\n",
       "    }\n",
       "</style>\n",
       "<table border=\"1\" class=\"dataframe\">\n",
       "  <thead>\n",
       "    <tr style=\"text-align: right;\">\n",
       "      <th></th>\n",
       "      <th>DATE</th>\n",
       "      <th>STOCK</th>\n",
       "      <th>INDUSTRY</th>\n",
       "      <th>INDUSTRY_GROUP</th>\n",
       "      <th>SECTOR</th>\n",
       "      <th>SUB_INDUSTRY</th>\n",
       "      <th>RET_1</th>\n",
       "      <th>VOLUME_1</th>\n",
       "      <th>RET_2</th>\n",
       "      <th>VOLUME_2</th>\n",
       "      <th>...</th>\n",
       "      <th>RET_19</th>\n",
       "      <th>VOLUME_19</th>\n",
       "      <th>RET_20</th>\n",
       "      <th>VOLUME_20</th>\n",
       "      <th>RET</th>\n",
       "      <th>RET_1_SUBDIVISION_median</th>\n",
       "      <th>RET_2_SUBDIVISION_median</th>\n",
       "      <th>RET_3_SUBDIVISION_median</th>\n",
       "      <th>RET_4_SUBDIVISION_median</th>\n",
       "      <th>RET_5_SUBDIVISION_median</th>\n",
       "    </tr>\n",
       "    <tr>\n",
       "      <th>ID</th>\n",
       "      <th></th>\n",
       "      <th></th>\n",
       "      <th></th>\n",
       "      <th></th>\n",
       "      <th></th>\n",
       "      <th></th>\n",
       "      <th></th>\n",
       "      <th></th>\n",
       "      <th></th>\n",
       "      <th></th>\n",
       "      <th></th>\n",
       "      <th></th>\n",
       "      <th></th>\n",
       "      <th></th>\n",
       "      <th></th>\n",
       "      <th></th>\n",
       "      <th></th>\n",
       "      <th></th>\n",
       "      <th></th>\n",
       "      <th></th>\n",
       "      <th></th>\n",
       "    </tr>\n",
       "  </thead>\n",
       "  <tbody>\n",
       "    <tr>\n",
       "      <th>0</th>\n",
       "      <td>0</td>\n",
       "      <td>2</td>\n",
       "      <td>18</td>\n",
       "      <td>5</td>\n",
       "      <td>3</td>\n",
       "      <td>44</td>\n",
       "      <td>-0.548988</td>\n",
       "      <td>0.124742</td>\n",
       "      <td>-0.533127</td>\n",
       "      <td>0.118379</td>\n",
       "      <td>...</td>\n",
       "      <td>-0.398164</td>\n",
       "      <td>0.138929</td>\n",
       "      <td>-0.064257</td>\n",
       "      <td>0.044562</td>\n",
       "      <td>True</td>\n",
       "      <td>0.260528</td>\n",
       "      <td>-0.813371</td>\n",
       "      <td>-0.068625</td>\n",
       "      <td>0.003163</td>\n",
       "      <td>0.160575</td>\n",
       "    </tr>\n",
       "    <tr>\n",
       "      <th>1</th>\n",
       "      <td>0</td>\n",
       "      <td>3</td>\n",
       "      <td>43</td>\n",
       "      <td>15</td>\n",
       "      <td>6</td>\n",
       "      <td>104</td>\n",
       "      <td>0.083747</td>\n",
       "      <td>-0.085220</td>\n",
       "      <td>-2.963083</td>\n",
       "      <td>-0.069945</td>\n",
       "      <td>...</td>\n",
       "      <td>-0.916075</td>\n",
       "      <td>-0.084071</td>\n",
       "      <td>-1.047147</td>\n",
       "      <td>-0.073966</td>\n",
       "      <td>True</td>\n",
       "      <td>0.116036</td>\n",
       "      <td>-0.978885</td>\n",
       "      <td>-0.433681</td>\n",
       "      <td>-0.257446</td>\n",
       "      <td>0.126326</td>\n",
       "    </tr>\n",
       "    <tr>\n",
       "      <th>2</th>\n",
       "      <td>0</td>\n",
       "      <td>4</td>\n",
       "      <td>57</td>\n",
       "      <td>20</td>\n",
       "      <td>8</td>\n",
       "      <td>142</td>\n",
       "      <td>-0.029884</td>\n",
       "      <td>0.005254</td>\n",
       "      <td>-1.937573</td>\n",
       "      <td>0.079344</td>\n",
       "      <td>...</td>\n",
       "      <td>-0.370059</td>\n",
       "      <td>-0.120713</td>\n",
       "      <td>-0.206443</td>\n",
       "      <td>-0.078988</td>\n",
       "      <td>False</td>\n",
       "      <td>0.266015</td>\n",
       "      <td>-1.250677</td>\n",
       "      <td>-0.426035</td>\n",
       "      <td>-0.033426</td>\n",
       "      <td>0.515045</td>\n",
       "    </tr>\n",
       "    <tr>\n",
       "      <th>3</th>\n",
       "      <td>0</td>\n",
       "      <td>8</td>\n",
       "      <td>1</td>\n",
       "      <td>1</td>\n",
       "      <td>1</td>\n",
       "      <td>2</td>\n",
       "      <td>0.959606</td>\n",
       "      <td>-0.157803</td>\n",
       "      <td>0.219699</td>\n",
       "      <td>0.007117</td>\n",
       "      <td>...</td>\n",
       "      <td>-0.416536</td>\n",
       "      <td>-0.221487</td>\n",
       "      <td>-1.108184</td>\n",
       "      <td>-0.208420</td>\n",
       "      <td>False</td>\n",
       "      <td>0.464528</td>\n",
       "      <td>-0.039569</td>\n",
       "      <td>-0.421046</td>\n",
       "      <td>-0.306552</td>\n",
       "      <td>-0.359338</td>\n",
       "    </tr>\n",
       "    <tr>\n",
       "      <th>4</th>\n",
       "      <td>0</td>\n",
       "      <td>14</td>\n",
       "      <td>36</td>\n",
       "      <td>12</td>\n",
       "      <td>5</td>\n",
       "      <td>92</td>\n",
       "      <td>0.830524</td>\n",
       "      <td>-0.362132</td>\n",
       "      <td>-1.303373</td>\n",
       "      <td>-0.345607</td>\n",
       "      <td>...</td>\n",
       "      <td>0.165459</td>\n",
       "      <td>0.337076</td>\n",
       "      <td>-1.231085</td>\n",
       "      <td>0.367046</td>\n",
       "      <td>False</td>\n",
       "      <td>0.144626</td>\n",
       "      <td>-0.435881</td>\n",
       "      <td>-0.218921</td>\n",
       "      <td>0.021902</td>\n",
       "      <td>-0.031971</td>\n",
       "    </tr>\n",
       "  </tbody>\n",
       "</table>\n",
       "<p>5 rows × 52 columns</p>\n",
       "</div>"
      ],
      "text/plain": [
       "    DATE  STOCK  INDUSTRY  INDUSTRY_GROUP  SECTOR  SUB_INDUSTRY     RET_1  \\\n",
       "ID                                                                          \n",
       "0      0      2        18               5       3            44 -0.548988   \n",
       "1      0      3        43              15       6           104  0.083747   \n",
       "2      0      4        57              20       8           142 -0.029884   \n",
       "3      0      8         1               1       1             2  0.959606   \n",
       "4      0     14        36              12       5            92  0.830524   \n",
       "\n",
       "    VOLUME_1     RET_2  VOLUME_2  ...    RET_19  VOLUME_19    RET_20  \\\n",
       "ID                                ...                                  \n",
       "0   0.124742 -0.533127  0.118379  ... -0.398164   0.138929 -0.064257   \n",
       "1  -0.085220 -2.963083 -0.069945  ... -0.916075  -0.084071 -1.047147   \n",
       "2   0.005254 -1.937573  0.079344  ... -0.370059  -0.120713 -0.206443   \n",
       "3  -0.157803  0.219699  0.007117  ... -0.416536  -0.221487 -1.108184   \n",
       "4  -0.362132 -1.303373 -0.345607  ...  0.165459   0.337076 -1.231085   \n",
       "\n",
       "    VOLUME_20    RET  RET_1_SUBDIVISION_median  RET_2_SUBDIVISION_median  \\\n",
       "ID                                                                         \n",
       "0    0.044562   True                  0.260528                 -0.813371   \n",
       "1   -0.073966   True                  0.116036                 -0.978885   \n",
       "2   -0.078988  False                  0.266015                 -1.250677   \n",
       "3   -0.208420  False                  0.464528                 -0.039569   \n",
       "4    0.367046  False                  0.144626                 -0.435881   \n",
       "\n",
       "    RET_3_SUBDIVISION_median  RET_4_SUBDIVISION_median  \\\n",
       "ID                                                       \n",
       "0                  -0.068625                  0.003163   \n",
       "1                  -0.433681                 -0.257446   \n",
       "2                  -0.426035                 -0.033426   \n",
       "3                  -0.421046                 -0.306552   \n",
       "4                  -0.218921                  0.021902   \n",
       "\n",
       "    RET_5_SUBDIVISION_median  \n",
       "ID                            \n",
       "0                   0.160575  \n",
       "1                   0.126326  \n",
       "2                   0.515045  \n",
       "3                  -0.359338  \n",
       "4                  -0.031971  \n",
       "\n",
       "[5 rows x 52 columns]"
      ]
     },
     "execution_count": 18,
     "metadata": {},
     "output_type": "execute_result"
    }
   ],
   "source": [
    "features = features_base + new_features\n",
    "train_cl.head()"
   ]
  },
  {
   "cell_type": "markdown",
   "metadata": {},
   "source": [
    "# Entraînement des modèles"
   ]
  },
  {
   "cell_type": "code",
   "execution_count": 19,
   "metadata": {},
   "outputs": [
    {
     "name": "stdout",
     "output_type": "stream",
     "text": [
      "21 modèles à créer\n",
      "Modèle 0 : calculé sur les données de la sous-industrie 108 . 29567 données.\n",
      "Modèle 1 : calculé sur les données de l'industrie 46 . 30325 données.\n",
      "Modèle 2 : calculé sur les données du groupe industriel 1 . 21264 données.\n",
      "Modèle 3 : calculé sur les données du groupe industriel 3 . 34588 données.\n",
      "Modèle 4 : calculé sur les données du groupe industriel 14 . 26249 données.\n",
      "Modèle 5 : calculé sur les données du groupe industriel 15 . 28873 données.\n",
      "Modèle 6 : calculé sur les données du groupe industriel 16 . 39290 données.\n",
      "Modèle 7 : calculé sur les données du groupe industriel 20 . 32650 données.\n",
      "Modèle 8 : calculé sur les données du groupe industriel 21 . 24179 données.\n",
      "Modèle 9 : calculé sur les données du secteur 0 . 6304 données.\n",
      "Modèle 10 : calculé sur les données du secteur 1 . 21264 données.\n",
      "Modèle 11 : calculé sur les données du secteur 2 . 18967 données.\n",
      "Modèle 12 : calculé sur les données du secteur 3 . 55473 données.\n",
      "Modèle 13 : calculé sur les données du secteur 4 . 63519 données.\n",
      "Modèle 14 : calculé sur les données du secteur 5 . 17295 données.\n",
      "Modèle 15 : calculé sur les données du secteur 6 . 55122 données.\n",
      "Modèle 16 : calculé sur les données du secteur 7 . 87903 données.\n",
      "Modèle 17 : calculé sur les données du secteur 8 . 70843 données.\n",
      "Modèle 18 : calculé sur les données du secteur 9 . 5555 données.\n",
      "Modèle 19 : calculé sur les données du secteur 10 . 13295 données.\n",
      "Modèle 20 : calculé sur les données du secteur 11 . 3054 données.\n"
     ]
    }
   ],
   "source": [
    "models = []\n",
    "arbre_minuscule = [\"du secteur\",\"du groupe industriel\",\"de l'industrie\",\"de la sous-industrie\",\"de l'action\"]\n",
    "print(len(loc_mods), 'modèles à créer')\n",
    "for n in range(len(loc_mods)):\n",
    "    loc_mod = loc_mods[n]\n",
    "    niv = loc_mod[0]\n",
    "    sub = loc_mod[1]\n",
    "    \n",
    "    x_train_cl = train_cl[features][train_cl[arbre[niv]]==sub]\n",
    "    y_train_cl = train_cl[target][train_cl[arbre[niv]]==sub]\n",
    "    print(\"Modèle\", n,\": calculé sur les données\",arbre_minuscule[niv],sub,\".\",x_train_cl.shape[0],\"données.\")\n",
    "     \n",
    "    rf_params = {\n",
    "    'n_estimators': 500,\n",
    "    'max_depth': 2**3,\n",
    "    'random_state': 0,\n",
    "    'n_jobs': -1\n",
    "    }\n",
    "    \n",
    "    model = RandomForestClassifier(**rf_params)\n",
    "    model.fit(x_train_cl, y_train_cl)\n",
    "    models.append([model,[niv,sub]])"
   ]
  },
  {
   "cell_type": "code",
   "execution_count": 20,
   "metadata": {},
   "outputs": [],
   "source": [
    "models_backup = models\n",
    "#models"
   ]
  },
  {
   "cell_type": "markdown",
   "metadata": {},
   "source": [
    "# Prédictions et précision locales"
   ]
  },
  {
   "cell_type": "code",
   "execution_count": 21,
   "metadata": {
    "scrolled": true
   },
   "outputs": [
    {
     "name": "stderr",
     "output_type": "stream",
     "text": [
      "<ipython-input-21-7521f1c00282>:1: DeprecationWarning: The default dtype for empty Series will be 'object' instead of 'float64' in a future version. Specify a dtype explicitly to silence this warning.\n",
      "  y_pred = pd.Series()\n",
      "<ipython-input-21-7521f1c00282>:2: DeprecationWarning: The default dtype for empty Series will be 'object' instead of 'float64' in a future version. Specify a dtype explicitly to silence this warning.\n",
      "  y_test= pd.Series(index=range(0,418596))\n",
      "<ipython-input-21-7521f1c00282>:15: UserWarning: Boolean Series key will be reindexed to match DataFrame index.\n",
      "  x_test = x_test[y_test.isna()]\n"
     ]
    },
    {
     "name": "stdout",
     "output_type": "stream",
     "text": [
      "Groupe :  0\n",
      "Groupe :  1\n",
      "Groupe :  2\n"
     ]
    },
    {
     "name": "stderr",
     "output_type": "stream",
     "text": [
      "<ipython-input-21-7521f1c00282>:15: UserWarning: Boolean Series key will be reindexed to match DataFrame index.\n",
      "  x_test = x_test[y_test.isna()]\n",
      "<ipython-input-21-7521f1c00282>:15: UserWarning: Boolean Series key will be reindexed to match DataFrame index.\n",
      "  x_test = x_test[y_test.isna()]\n"
     ]
    },
    {
     "name": "stdout",
     "output_type": "stream",
     "text": [
      "Groupe :  3\n"
     ]
    },
    {
     "name": "stderr",
     "output_type": "stream",
     "text": [
      "<ipython-input-21-7521f1c00282>:15: UserWarning: Boolean Series key will be reindexed to match DataFrame index.\n",
      "  x_test = x_test[y_test.isna()]\n"
     ]
    },
    {
     "name": "stdout",
     "output_type": "stream",
     "text": [
      "Groupe :  4\n"
     ]
    },
    {
     "name": "stderr",
     "output_type": "stream",
     "text": [
      "<ipython-input-21-7521f1c00282>:15: UserWarning: Boolean Series key will be reindexed to match DataFrame index.\n",
      "  x_test = x_test[y_test.isna()]\n"
     ]
    },
    {
     "name": "stdout",
     "output_type": "stream",
     "text": [
      "Groupe :  5\n"
     ]
    },
    {
     "name": "stderr",
     "output_type": "stream",
     "text": [
      "<ipython-input-21-7521f1c00282>:15: UserWarning: Boolean Series key will be reindexed to match DataFrame index.\n",
      "  x_test = x_test[y_test.isna()]\n"
     ]
    },
    {
     "name": "stdout",
     "output_type": "stream",
     "text": [
      "Groupe :  6\n"
     ]
    },
    {
     "name": "stderr",
     "output_type": "stream",
     "text": [
      "<ipython-input-21-7521f1c00282>:15: UserWarning: Boolean Series key will be reindexed to match DataFrame index.\n",
      "  x_test = x_test[y_test.isna()]\n"
     ]
    },
    {
     "name": "stdout",
     "output_type": "stream",
     "text": [
      "Groupe :  7\n"
     ]
    },
    {
     "name": "stderr",
     "output_type": "stream",
     "text": [
      "<ipython-input-21-7521f1c00282>:15: UserWarning: Boolean Series key will be reindexed to match DataFrame index.\n",
      "  x_test = x_test[y_test.isna()]\n"
     ]
    },
    {
     "name": "stdout",
     "output_type": "stream",
     "text": [
      "Groupe :  8\n"
     ]
    },
    {
     "name": "stderr",
     "output_type": "stream",
     "text": [
      "<ipython-input-21-7521f1c00282>:15: UserWarning: Boolean Series key will be reindexed to match DataFrame index.\n",
      "  x_test = x_test[y_test.isna()]\n"
     ]
    },
    {
     "name": "stdout",
     "output_type": "stream",
     "text": [
      "Groupe :  9\n",
      "Groupe :  10\n",
      "Groupe :  11\n"
     ]
    },
    {
     "name": "stderr",
     "output_type": "stream",
     "text": [
      "<ipython-input-21-7521f1c00282>:15: UserWarning: Boolean Series key will be reindexed to match DataFrame index.\n",
      "  x_test = x_test[y_test.isna()]\n",
      "<ipython-input-21-7521f1c00282>:15: UserWarning: Boolean Series key will be reindexed to match DataFrame index.\n",
      "  x_test = x_test[y_test.isna()]\n"
     ]
    },
    {
     "name": "stdout",
     "output_type": "stream",
     "text": [
      "Groupe :  12\n"
     ]
    },
    {
     "name": "stderr",
     "output_type": "stream",
     "text": [
      "<ipython-input-21-7521f1c00282>:15: UserWarning: Boolean Series key will be reindexed to match DataFrame index.\n",
      "  x_test = x_test[y_test.isna()]\n"
     ]
    },
    {
     "name": "stdout",
     "output_type": "stream",
     "text": [
      "Groupe :  13\n"
     ]
    },
    {
     "name": "stderr",
     "output_type": "stream",
     "text": [
      "<ipython-input-21-7521f1c00282>:15: UserWarning: Boolean Series key will be reindexed to match DataFrame index.\n",
      "  x_test = x_test[y_test.isna()]\n"
     ]
    },
    {
     "name": "stdout",
     "output_type": "stream",
     "text": [
      "Groupe :  14\n"
     ]
    },
    {
     "name": "stderr",
     "output_type": "stream",
     "text": [
      "<ipython-input-21-7521f1c00282>:15: UserWarning: Boolean Series key will be reindexed to match DataFrame index.\n",
      "  x_test = x_test[y_test.isna()]\n"
     ]
    },
    {
     "name": "stdout",
     "output_type": "stream",
     "text": [
      "Groupe :  15\n",
      "Groupe :  16\n"
     ]
    },
    {
     "name": "stderr",
     "output_type": "stream",
     "text": [
      "<ipython-input-21-7521f1c00282>:15: UserWarning: Boolean Series key will be reindexed to match DataFrame index.\n",
      "  x_test = x_test[y_test.isna()]\n"
     ]
    },
    {
     "name": "stdout",
     "output_type": "stream",
     "text": [
      "Groupe :  17\n"
     ]
    },
    {
     "name": "stderr",
     "output_type": "stream",
     "text": [
      "<ipython-input-21-7521f1c00282>:15: UserWarning: Boolean Series key will be reindexed to match DataFrame index.\n",
      "  x_test = x_test[y_test.isna()]\n"
     ]
    },
    {
     "name": "stdout",
     "output_type": "stream",
     "text": [
      "Groupe :  18\n",
      "Groupe :  19\n"
     ]
    },
    {
     "name": "stderr",
     "output_type": "stream",
     "text": [
      "<ipython-input-21-7521f1c00282>:15: UserWarning: Boolean Series key will be reindexed to match DataFrame index.\n",
      "  x_test = x_test[y_test.isna()]\n",
      "<ipython-input-21-7521f1c00282>:15: UserWarning: Boolean Series key will be reindexed to match DataFrame index.\n",
      "  x_test = x_test[y_test.isna()]\n"
     ]
    },
    {
     "name": "stdout",
     "output_type": "stream",
     "text": [
      "Groupe :  20\n"
     ]
    },
    {
     "name": "stderr",
     "output_type": "stream",
     "text": [
      "<ipython-input-21-7521f1c00282>:15: UserWarning: Boolean Series key will be reindexed to match DataFrame index.\n",
      "  x_test = x_test[y_test.isna()]\n"
     ]
    }
   ],
   "source": [
    "y_pred = pd.Series()\n",
    "y_test= pd.Series(index=range(0,418596))\n",
    "\n",
    "\n",
    "nb_ligne = 0;\n",
    "for n in range(len(models)):\n",
    "    model = models[n][0]\n",
    "    \n",
    "    print(\"Groupe : \", n)\n",
    "\n",
    "    div = arbre[models[n][1][0]]  \n",
    "    sub = models[n][1][1] \n",
    "               \n",
    "    x_test = train_cl[train_cl[div]==sub].loc[:,features]\n",
    "    x_test = x_test[y_test.isna()]\n",
    "    \n",
    "    if (x_test.shape[0] > 0):\n",
    "        \n",
    "        index = x_test.index\n",
    "        y_test[index]=1\n",
    "    \n",
    "        y_new = pd.Series(model.predict(x_test),index=index)\n",
    "        y_pred = pd.concat([y_pred,y_new])\n",
    "    \n",
    "y_pred = y_pred.sort_index()\n"
   ]
  },
  {
   "cell_type": "code",
   "execution_count": 22,
   "metadata": {},
   "outputs": [
    {
     "data": {
      "text/plain": [
       "0.6900743918928604"
      ]
     },
     "execution_count": 22,
     "metadata": {},
     "output_type": "execute_result"
    }
   ],
   "source": [
    "accuracy_score(train_cl[target], y_pred)"
   ]
  },
  {
   "cell_type": "markdown",
   "metadata": {},
   "source": [
    "# Prédictions sur test set"
   ]
  },
  {
   "cell_type": "code",
   "execution_count": 23,
   "metadata": {
    "scrolled": true
   },
   "outputs": [
    {
     "name": "stderr",
     "output_type": "stream",
     "text": [
      "<ipython-input-23-fe97e84099bc>:1: DeprecationWarning: The default dtype for empty Series will be 'object' instead of 'float64' in a future version. Specify a dtype explicitly to silence this warning.\n",
      "  y_pred = pd.Series()\n",
      "<ipython-input-23-fe97e84099bc>:2: DeprecationWarning: The default dtype for empty Series will be 'object' instead of 'float64' in a future version. Specify a dtype explicitly to silence this warning.\n",
      "  y_test= pd.Series(index=range(418595,617024))\n",
      "<ipython-input-23-fe97e84099bc>:15: UserWarning: Boolean Series key will be reindexed to match DataFrame index.\n",
      "  x_test = x_test[y_test.isna()]\n"
     ]
    },
    {
     "name": "stdout",
     "output_type": "stream",
     "text": [
      "Groupe :  0\n",
      "Groupe :  1\n",
      "Groupe :  2\n"
     ]
    },
    {
     "name": "stderr",
     "output_type": "stream",
     "text": [
      "<ipython-input-23-fe97e84099bc>:15: UserWarning: Boolean Series key will be reindexed to match DataFrame index.\n",
      "  x_test = x_test[y_test.isna()]\n",
      "<ipython-input-23-fe97e84099bc>:15: UserWarning: Boolean Series key will be reindexed to match DataFrame index.\n",
      "  x_test = x_test[y_test.isna()]\n"
     ]
    },
    {
     "name": "stdout",
     "output_type": "stream",
     "text": [
      "Groupe :  3\n"
     ]
    },
    {
     "name": "stderr",
     "output_type": "stream",
     "text": [
      "<ipython-input-23-fe97e84099bc>:15: UserWarning: Boolean Series key will be reindexed to match DataFrame index.\n",
      "  x_test = x_test[y_test.isna()]\n"
     ]
    },
    {
     "name": "stdout",
     "output_type": "stream",
     "text": [
      "Groupe :  4\n"
     ]
    },
    {
     "name": "stderr",
     "output_type": "stream",
     "text": [
      "<ipython-input-23-fe97e84099bc>:15: UserWarning: Boolean Series key will be reindexed to match DataFrame index.\n",
      "  x_test = x_test[y_test.isna()]\n"
     ]
    },
    {
     "name": "stdout",
     "output_type": "stream",
     "text": [
      "Groupe :  5\n"
     ]
    },
    {
     "name": "stderr",
     "output_type": "stream",
     "text": [
      "<ipython-input-23-fe97e84099bc>:15: UserWarning: Boolean Series key will be reindexed to match DataFrame index.\n",
      "  x_test = x_test[y_test.isna()]\n"
     ]
    },
    {
     "name": "stdout",
     "output_type": "stream",
     "text": [
      "Groupe :  6\n",
      "Groupe :  7\n"
     ]
    },
    {
     "name": "stderr",
     "output_type": "stream",
     "text": [
      "<ipython-input-23-fe97e84099bc>:15: UserWarning: Boolean Series key will be reindexed to match DataFrame index.\n",
      "  x_test = x_test[y_test.isna()]\n",
      "<ipython-input-23-fe97e84099bc>:15: UserWarning: Boolean Series key will be reindexed to match DataFrame index.\n",
      "  x_test = x_test[y_test.isna()]\n"
     ]
    },
    {
     "name": "stdout",
     "output_type": "stream",
     "text": [
      "Groupe :  8\n",
      "Groupe :  9\n"
     ]
    },
    {
     "name": "stderr",
     "output_type": "stream",
     "text": [
      "<ipython-input-23-fe97e84099bc>:15: UserWarning: Boolean Series key will be reindexed to match DataFrame index.\n",
      "  x_test = x_test[y_test.isna()]\n",
      "<ipython-input-23-fe97e84099bc>:15: UserWarning: Boolean Series key will be reindexed to match DataFrame index.\n",
      "  x_test = x_test[y_test.isna()]\n"
     ]
    },
    {
     "name": "stdout",
     "output_type": "stream",
     "text": [
      "Groupe :  10\n",
      "Groupe :  11\n",
      "Groupe :  12\n"
     ]
    },
    {
     "name": "stderr",
     "output_type": "stream",
     "text": [
      "<ipython-input-23-fe97e84099bc>:15: UserWarning: Boolean Series key will be reindexed to match DataFrame index.\n",
      "  x_test = x_test[y_test.isna()]\n"
     ]
    },
    {
     "name": "stdout",
     "output_type": "stream",
     "text": [
      "Groupe :  13\n"
     ]
    },
    {
     "name": "stderr",
     "output_type": "stream",
     "text": [
      "<ipython-input-23-fe97e84099bc>:15: UserWarning: Boolean Series key will be reindexed to match DataFrame index.\n",
      "  x_test = x_test[y_test.isna()]\n",
      "<ipython-input-23-fe97e84099bc>:15: UserWarning: Boolean Series key will be reindexed to match DataFrame index.\n",
      "  x_test = x_test[y_test.isna()]\n"
     ]
    },
    {
     "name": "stdout",
     "output_type": "stream",
     "text": [
      "Groupe :  14\n",
      "Groupe :  15\n",
      "Groupe :  16\n"
     ]
    },
    {
     "name": "stderr",
     "output_type": "stream",
     "text": [
      "<ipython-input-23-fe97e84099bc>:15: UserWarning: Boolean Series key will be reindexed to match DataFrame index.\n",
      "  x_test = x_test[y_test.isna()]\n",
      "<ipython-input-23-fe97e84099bc>:15: UserWarning: Boolean Series key will be reindexed to match DataFrame index.\n",
      "  x_test = x_test[y_test.isna()]\n"
     ]
    },
    {
     "name": "stdout",
     "output_type": "stream",
     "text": [
      "Groupe :  17\n",
      "Groupe :  18\n"
     ]
    },
    {
     "name": "stderr",
     "output_type": "stream",
     "text": [
      "<ipython-input-23-fe97e84099bc>:15: UserWarning: Boolean Series key will be reindexed to match DataFrame index.\n",
      "  x_test = x_test[y_test.isna()]\n",
      "<ipython-input-23-fe97e84099bc>:15: UserWarning: Boolean Series key will be reindexed to match DataFrame index.\n",
      "  x_test = x_test[y_test.isna()]\n"
     ]
    },
    {
     "name": "stdout",
     "output_type": "stream",
     "text": [
      "Groupe :  19\n"
     ]
    },
    {
     "name": "stderr",
     "output_type": "stream",
     "text": [
      "<ipython-input-23-fe97e84099bc>:15: UserWarning: Boolean Series key will be reindexed to match DataFrame index.\n",
      "  x_test = x_test[y_test.isna()]\n"
     ]
    },
    {
     "name": "stdout",
     "output_type": "stream",
     "text": [
      "Groupe :  20\n"
     ]
    },
    {
     "name": "stderr",
     "output_type": "stream",
     "text": [
      "<ipython-input-23-fe97e84099bc>:15: UserWarning: Boolean Series key will be reindexed to match DataFrame index.\n",
      "  x_test = x_test[y_test.isna()]\n"
     ]
    }
   ],
   "source": [
    "y_pred = pd.Series()\n",
    "y_test= pd.Series(index=range(418595,617024))\n",
    "\n",
    "ligne_count = 0;\n",
    "\n",
    "for n in range(len(models)):\n",
    "    model = models[n][0]\n",
    "    \n",
    "    print(\"Groupe : \", n)\n",
    "\n",
    "    div = arbre[models[n][1][0]]  \n",
    "    sub = models[n][1][1] \n",
    "               \n",
    "    x_test = test_cl[test_cl[div]==sub].loc[:,features]\n",
    "    x_test = x_test[y_test.isna()]\n",
    "    \n",
    "    if (x_test.shape[0] > 0):\n",
    "        ligne_count+=x_test.shape[0]\n",
    "        index = x_test.index\n",
    "        y_test[index]=1\n",
    "        \n",
    "        y_new = pd.Series(model.predict(x_test),index=index)\n",
    "        y_pred = pd.concat([y_pred,y_new])\n",
    "  \n",
    "y_pred = y_pred.sort_index()"
   ]
  },
  {
   "cell_type": "markdown",
   "metadata": {},
   "source": [
    "# Submission"
   ]
  },
  {
   "cell_type": "code",
   "execution_count": 24,
   "metadata": {},
   "outputs": [],
   "source": [
    "y_pred.name = target\n",
    "y_pred.to_csv('y_test_arbo_10000.csv', index=True, header=True)"
   ]
  },
  {
   "cell_type": "code",
   "execution_count": 25,
   "metadata": {},
   "outputs": [
    {
     "data": {
      "text/plain": [
       "6304"
      ]
     },
     "execution_count": 25,
     "metadata": {},
     "output_type": "execute_result"
    }
   ],
   "source": [
    "train_cl[train_cl['SUB_INDUSTRY']==0].shape[0]"
   ]
  },
  {
   "cell_type": "code",
   "execution_count": 26,
   "metadata": {},
   "outputs": [
    {
     "name": "stdout",
     "output_type": "stream",
     "text": [
      "0\n",
      "198429 198429\n",
      "198429 198429\n"
     ]
    },
    {
     "data": {
      "text/plain": [
       "0"
      ]
     },
     "execution_count": 26,
     "metadata": {},
     "output_type": "execute_result"
    }
   ],
   "source": [
    "print(-(y_pred.shape[0]-test.shape[0]))\n",
    "print(y_pred.shape[0],test.shape[0])\n",
    "print(y_test.isna().shape[0],y_test.shape[0])\n",
    "test_cl[y_test.isna()].shape[0]\n"
   ]
  },
  {
   "cell_type": "markdown",
   "metadata": {},
   "source": []
  }
 ],
 "metadata": {
  "hide_input": false,
  "kernelspec": {
   "display_name": "Python 3",
   "language": "python",
   "name": "python3"
  },
  "language_info": {
   "codemirror_mode": {
    "name": "ipython",
    "version": 3
   },
   "file_extension": ".py",
   "mimetype": "text/x-python",
   "name": "python",
   "nbconvert_exporter": "python",
   "pygments_lexer": "ipython3",
   "version": "3.8.3"
  },
  "toc": {
   "base_numbering": 1,
   "nav_menu": {},
   "number_sections": true,
   "sideBar": true,
   "skip_h1_title": false,
   "title_cell": "Table of Contents",
   "title_sidebar": "Contents",
   "toc_cell": false,
   "toc_position": {},
   "toc_section_display": true,
   "toc_window_display": false
  }
 },
 "nbformat": 4,
 "nbformat_minor": 4
}
