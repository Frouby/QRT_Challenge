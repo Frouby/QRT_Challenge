{
 "cells": [
  {
   "cell_type": "markdown",
   "metadata": {},
   "source": [
    "# Used libraries"
   ]
  },
  {
   "cell_type": "code",
   "execution_count": null,
   "metadata": {},
   "outputs": [],
   "source": [
    "import seaborn as sns\n",
    "import numpy as np\n",
    "import pandas as pd\n",
    "from sklearn.ensemble import RandomForestClassifier\n",
    "from sklearn.metrics import accuracy_score\n",
    "import matplotlib.pyplot as plt\n",
    "from sklearn.preprocessing import StandardScaler\n",
    "from sklearn.model_selection import train_test_split\n",
    "from sklearn.model_selection import KFold"
   ]
  },
  {
   "cell_type": "markdown",
   "metadata": {},
   "source": [
    "# Chargement des données\n",
    "\n",
    "The train and test inputs are composed of 46 features.\n",
    "\n",
    "The target of this challenge is `RET` and corresponds to the fact that the **return is in the top 50% of highest stock returns**.\n",
    "\n",
    "Since the median is very close to 0, this information should not change much with the idea to predict the sign of the return."
   ]
  },
  {
   "cell_type": "code",
   "execution_count": null,
   "metadata": {},
   "outputs": [],
   "source": [
    "x_train = pd.read_csv('../x_train.csv', index_col='ID')\n",
    "y_train = pd.read_csv('../y_train.csv', index_col='ID')\n",
    "train = pd.concat([x_train, y_train], axis=1)\n",
    "test = pd.read_csv('../x_test.csv', index_col='ID')\n",
    "train.head()"
   ]
  },
  {
   "cell_type": "code",
   "execution_count": null,
   "metadata": {},
   "outputs": [],
   "source": [
    "ret=[f'RET_{k}' for k in range(20,0,-1)]\n",
    "vol=[f'VOLUME_{k}' for k in range(20,0,-1)]"
   ]
  },
  {
   "cell_type": "markdown",
   "metadata": {},
   "source": [
    "# Exploration des secteurs"
   ]
  },
  {
   "cell_type": "markdown",
   "metadata": {},
   "source": [
    "Nombre de points par secteur :"
   ]
  },
  {
   "cell_type": "code",
   "execution_count": null,
   "metadata": {},
   "outputs": [],
   "source": [
    "nb_sec = len(train.SECTOR.unique())"
   ]
  },
  {
   "cell_type": "code",
   "execution_count": null,
   "metadata": {},
   "outputs": [],
   "source": [
    "train.SECTOR.hist(bins=nb_sec)"
   ]
  },
  {
   "cell_type": "code",
   "execution_count": null,
   "metadata": {
    "scrolled": true
   },
   "outputs": [],
   "source": [
    "train.groupby(by='SECTOR').count()['DATE']"
   ]
  },
  {
   "cell_type": "markdown",
   "metadata": {},
   "source": [
    "# Cross validation"
   ]
  },
  {
   "cell_type": "code",
   "execution_count": null,
   "metadata": {
    "scrolled": true
   },
   "outputs": [],
   "source": [
    "# Paramètres :\n",
    "N = 4 #nombre de folds\n",
    "nb_feat = 20 #nb de jours pris en compte\n",
    "nb_shifts = 10 #nombre de features supplémentaires\n",
    "\n",
    "# Séparation en N folds :\n",
    "scores=[]\n",
    "kf = KFold(n_splits=N,shuffle=True,random_state=1)\n",
    "for fold, (ind_train, ind_test) in enumerate(kf.split(train)):\n",
    "    \n",
    "    # Nettoyage des données :\n",
    "    train_cl = train.loc[ind_train]\n",
    "    test_cl = train.loc[ind_test]\n",
    "    for sect in range(nb_sec):\n",
    "        for ret_t,vol_t in zip(ret,vol):\n",
    "            med_ret = train_cl[ret_t][train_cl['SECTOR']==sect].median()\n",
    "            med_vol = train_cl[vol_t][train_cl['SECTOR']==sect].median()\n",
    "            train_cl[ret_t] = train_cl[ret_t].fillna(med_ret)\n",
    "            train_cl[vol_t] = train_cl[vol_t].fillna(med_vol)\n",
    "            test_cl[ret_t] = test_cl[ret_t].fillna(med_ret)\n",
    "            test_cl[vol_t] = test_cl[vol_t].fillna(med_vol)\n",
    "\n",
    "    # Mise à l'échelle :\n",
    "    scaler = StandardScaler()\n",
    "    train_cl[ret+vol] = scaler.fit_transform(train_cl[ret+vol])\n",
    "    test_cl[ret+vol] = scaler.fit_transform(test_cl[ret+vol])\n",
    "\n",
    "    # Sélection des features :\n",
    "    features_base = ret[-nb_feat:]+vol[-nb_feat:]\n",
    "    target = 'RET'\n",
    "    new_features = []\n",
    "    shifts = range(1,nb_shifts+1)\n",
    "    statistics = ['median']\n",
    "    gb_features = ['INDUSTRY_GROUP', 'DATE']\n",
    "    target_feature = 'RET'\n",
    "    tmp_name = '_'.join(gb_features)\n",
    "    for shift in shifts:\n",
    "        for stat in statistics:\n",
    "            name = f'{target_feature}_{shift}_{tmp_name}_{stat}'\n",
    "            feat = f'{target_feature}_{shift}'\n",
    "            new_features.append(name)\n",
    "            for data in [train_cl,test_cl]:\n",
    "                data[name] = data.groupby(gb_features)[feat].transform(stat)\n",
    "    features = features_base + new_features\n",
    "    \n",
    "    # Entraînement des modèles :\n",
    "    models = []\n",
    "    for sect in range(nb_sec):\n",
    "        x_train_cl = train_cl[features][train_cl['SECTOR']==sect]\n",
    "        y_train_cl = train_cl[target][train_cl['SECTOR']==sect]\n",
    "        rf_params = {\n",
    "        'n_estimators': 500,\n",
    "        'max_depth': 2**3,\n",
    "        'random_state': 0,\n",
    "        'n_jobs': -1\n",
    "        }\n",
    "        model = RandomForestClassifier(**rf_params)\n",
    "        model.fit(x_train_cl, y_train_cl)\n",
    "        models.append(model)\n",
    "        print(f\"Fold {fold+1} - Modèle {sect} entraîné\")\n",
    "\n",
    "    # Prédiction :\n",
    "    y_pred = pd.Series()\n",
    "    index0 = test_cl.index\n",
    "    for sect in range(nb_sec):\n",
    "        x_test = test_cl.loc[test_cl['SECTOR']==sect].loc[:,features]\n",
    "        index = x_test.index\n",
    "        y_test = test_cl.loc[test_cl['SECTOR']==sect].loc[:,target]\n",
    "        model = models[sect]\n",
    "        y_pred = pd.concat([y_pred,pd.Series(model.predict(x_test),index=x_test.index)])\n",
    "    y_pred = y_pred[index0]\n",
    "    score = accuracy_score(test_cl[target], y_pred)\n",
    "    print(f\"Score fold {fold+1} : {score* 100:.2f}\")\n",
    "    scores.append(score)\n",
    "\n",
    "# Résultats finaux :\n",
    "mean = np.mean(scores)*100\n",
    "std = np.std(scores)*100\n",
    "u = (mean + std)\n",
    "l = (mean - std)\n",
    "print(f'Accuracy: {mean:.2f}% [{l:.2f} ; {u:.2f}] (+- {std:.2f})')"
   ]
  },
  {
   "cell_type": "markdown",
   "metadata": {},
   "source": [
    "# Submit"
   ]
  },
  {
   "cell_type": "code",
   "execution_count": null,
   "metadata": {},
   "outputs": [],
   "source": [
    "# Paramètres :\n",
    "nb_feat = 20 #nb de jours pris en compte\n",
    "nb_shifts = 10 #nombre de features supplémentaires\n",
    "\n",
    "# Nettoyage des données :\n",
    "train_cl = train.copy()\n",
    "test_cl = test.copy()\n",
    "for sect in range(nb_sec):\n",
    "    for ret_t,vol_t in zip(ret,vol):\n",
    "        med_ret = train_cl[ret_t][train_cl['SECTOR']==sect].median()\n",
    "        med_vol = train_cl[vol_t][train_cl['SECTOR']==sect].median()\n",
    "        train_cl[ret_t] = train_cl[ret_t].fillna(med_ret)\n",
    "        train_cl[vol_t] = train_cl[vol_t].fillna(med_vol)\n",
    "        test_cl[ret_t] = test_cl[ret_t].fillna(med_ret)\n",
    "        test_cl[vol_t] = test_cl[vol_t].fillna(med_vol)\n",
    "\n",
    "# Mise à l'échelle :\n",
    "scaler = StandardScaler()\n",
    "train_cl[ret+vol] = scaler.fit_transform(train_cl[ret+vol])\n",
    "test_cl[ret+vol] = scaler.fit_transform(test_cl[ret+vol])\n",
    "\n",
    "# Sélection des features :\n",
    "features_base = ret[-nb_feat:]+vol[-nb_feat:]\n",
    "target = 'RET'\n",
    "new_features = []\n",
    "shifts = range(1,nb_shifts+1)\n",
    "statistics = ['median']\n",
    "gb_features = ['INDUSTRY_GROUP', 'DATE']\n",
    "target_feature = 'RET'\n",
    "tmp_name = '_'.join(gb_features)\n",
    "for shift in shifts:\n",
    "    for stat in statistics:\n",
    "        name = f'{target_feature}_{shift}_{tmp_name}_{stat}'\n",
    "        feat = f'{target_feature}_{shift}'\n",
    "        new_features.append(name)\n",
    "        for data in [train_cl,test_cl]:\n",
    "            data[name] = data.groupby(gb_features)[feat].transform(stat)\n",
    "features = features_base + new_features\n",
    "\n",
    "# Entraînement des modèles :\n",
    "models = []\n",
    "for sect in range(nb_sec):\n",
    "    x_train_cl = train_cl[features][train_cl['SECTOR']==sect]\n",
    "    y_train_cl = train_cl[target][train_cl['SECTOR']==sect]\n",
    "    rf_params = {\n",
    "    'n_estimators': 500,\n",
    "    'max_depth': 2**3,\n",
    "    'random_state': 0,\n",
    "    'n_jobs': -1\n",
    "    }\n",
    "    model = RandomForestClassifier(**rf_params)\n",
    "    model.fit(x_train_cl, y_train_cl)\n",
    "    models.append(model)\n",
    "    print(f\"Modèle {sect} entraîné\")\n",
    "\n",
    "# Prédiction :\n",
    "y_pred = pd.Series()\n",
    "index0 = test_cl.index\n",
    "for sect in range(nb_sec):\n",
    "    x_test = test_cl.loc[test_cl['SECTOR']==sect].loc[:,features]\n",
    "    index = x_test.index\n",
    "    model = models[sect]\n",
    "    y_pred = pd.concat([y_pred,pd.Series(model.predict(x_test),index=x_test.index)])\n",
    "y_pred = y_pred[index0]"
   ]
  },
  {
   "cell_type": "code",
   "execution_count": null,
   "metadata": {},
   "outputs": [],
   "source": [
    "y_pred.name = target\n",
    "y_pred.to_csv('./sub1110F2.csv', index=True, header=True)"
   ]
  },
  {
   "cell_type": "markdown",
   "metadata": {},
   "source": [
    "Paramètres : nb_feat = 20, nb_shifts = 10\n",
    "\n",
    "Public score : 50.51%"
   ]
  },
  {
   "cell_type": "code",
   "execution_count": null,
   "metadata": {},
   "outputs": [],
   "source": []
  }
 ],
 "metadata": {
  "hide_input": false,
  "kernelspec": {
   "display_name": "Python 3",
   "language": "python",
   "name": "python3"
  },
  "language_info": {
   "codemirror_mode": {
    "name": "ipython",
    "version": 3
   },
   "file_extension": ".py",
   "mimetype": "text/x-python",
   "name": "python",
   "nbconvert_exporter": "python",
   "pygments_lexer": "ipython3",
   "version": "3.7.3"
  },
  "toc": {
   "base_numbering": 1,
   "nav_menu": {},
   "number_sections": true,
   "sideBar": true,
   "skip_h1_title": false,
   "title_cell": "Table of Contents",
   "title_sidebar": "Contents",
   "toc_cell": false,
   "toc_position": {},
   "toc_section_display": true,
   "toc_window_display": false
  }
 },
 "nbformat": 4,
 "nbformat_minor": 2
}
